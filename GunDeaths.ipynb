{
 "cells": [
  {
   "cell_type": "markdown",
   "metadata": {},
   "source": [
    "## Analyzing data on gun deaths in the US\n",
    "\n",
    "The dataset came from FiveThirtyEight, and can be found https://github.com/fivethirtyeight/guns-data.  \n",
    "The dataset is stored in the guns.csv file.  \n",
    "It contains information on gun deaths in the US from 2012 to 2014. Each row in the dataset represents a single fatality.  \n",
    "The columns contain demographic and other information about the victim. Here are the first few rows of the dataset:"
   ]
  },
  {
   "cell_type": "markdown",
   "metadata": {},
   "source": [
    "## A) Read the dataset in as a list using the csv module.\n",
    " 1. Import the csv module.\n",
    " 2. Open the file using the open() function.\n",
    " 3. Use the csv.reader() function to load the opened file.\n",
    " 4. Call list() on the result to get a list of all the data in the file.\n",
    " 5. Assign the result to the variable data.\n",
    " 6.Display the first 5 rows of data to verify everything."
   ]
  },
  {
   "cell_type": "code",
   "execution_count": 1,
   "metadata": {},
   "outputs": [
    {
     "name": "stdout",
     "output_type": "stream",
     "text": [
      "[['', 'year', 'month', 'intent', 'police', 'sex', 'age', 'race', 'hispanic', 'place', 'education'], ['1', '2012', '01', 'Suicide', '0', 'M', '34', 'Asian/Pacific Islander', '100', 'Home', '4'], ['2', '2012', '01', 'Suicide', '0', 'F', '21', 'White', '100', 'Street', '3'], ['3', '2012', '01', 'Suicide', '0', 'M', '60', 'White', '100', 'Other specified', '4'], ['4', '2012', '02', 'Suicide', '0', 'M', '64', 'White', '100', 'Home', '4']]\n"
     ]
    }
   ],
   "source": [
    "import csv \n",
    "f = open('guns.csv',\"r\")\n",
    "csv_reader = csv.reader(f)\n",
    "data = list(csv_reader)\n",
    "\n",
    "print(data[0:5])"
   ]
  },
  {
   "cell_type": "markdown",
   "metadata": {},
   "source": [
    "## B) Removing Headers From A List Of Lists\n",
    "\n",
    "1. Extract the first row of data, and assign it to the variable headers.\n",
    "2. Remove the first row from data.\n",
    "3. Display headers.\n",
    "4. Display the first 5 rows of data to verify that you removed the header row properly."
   ]
  },
  {
   "cell_type": "code",
   "execution_count": 2,
   "metadata": {},
   "outputs": [
    {
     "name": "stdout",
     "output_type": "stream",
     "text": [
      "['', 'year', 'month', 'intent', 'police', 'sex', 'age', 'race', 'hispanic', 'place', 'education']\n",
      "[['1', '2012', '01', 'Suicide', '0', 'M', '34', 'Asian/Pacific Islander', '100', 'Home', '4'], ['2', '2012', '01', 'Suicide', '0', 'F', '21', 'White', '100', 'Street', '3'], ['3', '2012', '01', 'Suicide', '0', 'M', '60', 'White', '100', 'Other specified', '4'], ['4', '2012', '02', 'Suicide', '0', 'M', '64', 'White', '100', 'Home', '4'], ['5', '2012', '02', 'Suicide', '0', 'M', '31', 'White', '100', 'Other specified', '2']]\n"
     ]
    }
   ],
   "source": [
    "headers = data[0]\n",
    "data = data[1:]\n",
    "\n",
    "print(headers)\n",
    "print(data[0:5])\n"
   ]
  },
  {
   "cell_type": "markdown",
   "metadata": {},
   "source": [
    "## C) Index of column and Information contained herein\n",
    "\n",
    "1. '' - this is an identifier column, which contains the row number. It's common in CSV files to include a unique identifier for each row, but we can ignore it in this analysis.\n",
    "2. year -- the year in which the fatality occurred.\n",
    "3. month -- the month in which the fatality occurred.\n",
    "4. intent -- the intent of the perpetrator of the crime. This can be Suicide, Accidental, NA, Homicide, or Undetermined.\n",
    "5. police -- whether a police officer was involved with the shooting. Either 0 (false) or 1 (true).\n",
    "6. sex -- the gender of the victim. Either M or F.\n",
    "7. age -- the age of the victim. \n",
    "8. race -- the race of the victim. Either Asian/Pacific Islander, Native American/Native Alaskan, Black, Hispanic, or White\n",
    "9. hispanic -- a code indicating the Hispanic origin of the victim\n",
    "10. place -- where the shooting occurred. Has several categories, which you're encouraged to explore on your own.\n",
    "11. education -- educational status of the victim. Can be one of the following:\n",
    "      + 1 -- Less than High School\n",
    "      + 2 -- Graduated from High School or equivalent\n",
    "      + 3 -- Some College\n",
    "      + 4 -- At least graduated from College\n",
    "      + 5 -- Not available\n"
   ]
  },
  {
   "cell_type": "markdown",
   "metadata": {},
   "source": [
    "## D) Counting Gun Deaths By Year\n",
    "\n",
    "1. Use a list comprehension to extract the year column from data.  \n",
    "   Because the year column is the second column in the data, you'll need to get the element at index 1 in each row.  \n",
    "   Assign the result to the variable years.\n",
    "\n",
    "2. Create an empty dictionary called year_counts.\n",
    "\n",
    "3. Loop through each element in years.If the element isn't a key in year_counts, create it, and set the value to 1.\n",
    "   If the element is a key in year_counts, increment the value by one. Display year_counts to see how many gun deaths \n",
    "   occur in each year.\n"
   ]
  },
  {
   "cell_type": "code",
   "execution_count": 3,
   "metadata": {},
   "outputs": [
    {
     "name": "stdout",
     "output_type": "stream",
     "text": [
      "{'2012': 33563, '2013': 33636, '2014': 33599}\n"
     ]
    }
   ],
   "source": [
    "#print (years)\n",
    "years = [row[1] for row in data ]\n",
    "\n",
    "\n",
    "year_counts = {}\n",
    "for year in years:\n",
    "    if year in year_counts:\n",
    "        year_counts[year] += 1 \n",
    "    else:\n",
    "        year_counts[year] = 1 \n",
    "        \n",
    "        \n",
    "print(year_counts)"
   ]
  },
  {
   "cell_type": "markdown",
   "metadata": {},
   "source": [
    "## E) Exploring Gun Deaths By Month And Year\n",
    "It looks like gun deaths didn't change much by year from 2012 to 2014.  \n",
    "Let's see if gun deaths in the US change by month and year.  \n",
    "In order to do this, we'll have to create a datetime.datetime object using the year and month columns.  \n",
    "We'll then be able to count up gun deaths by date, like we did by year in the last screen.\n",
    "\n",
    "As you may recall from an earlier mission, you can create a datetime object by specifying the year,  \n",
    "month, and day keyword arguments:\n",
    "\n",
    " + date = datetime(year=2016, month=12, day=1)\n",
    " \n",
    "We can use the month and year column of data to create a datetime. We'll specify a fixed day because we're missing that column in our data. If we create a datetime.datetime object for each row, we can then count up how many gun deaths occurred in each month and year using a similar procedure to what we did in the last screen."
   ]
  },
  {
   "cell_type": "markdown",
   "metadata": {},
   "source": [
    "## Analysis by Month and Date \n",
    "Use a list comprehension to create a datetime.datetime object for each row. Assign the result to dates.\n",
    "\n",
    "+ The year column is in the second element in each row.\n",
    "+ The month column is the third element in each row.\n",
    "  Make sure to convert year and month to integers using int().\n",
    "+ Pass year, month, and day=1 into the datetime.datetime() function.\n",
    "  Display the first 5 rows in dates to verify everything worked.\n",
    "  \n"
   ]
  },
  {
   "cell_type": "code",
   "execution_count": 4,
   "metadata": {},
   "outputs": [
    {
     "name": "stdout",
     "output_type": "stream",
     "text": [
      "[datetime.datetime(2012, 1, 1, 0, 0), datetime.datetime(2012, 1, 1, 0, 0), datetime.datetime(2012, 1, 1, 0, 0), datetime.datetime(2012, 2, 1, 0, 0), datetime.datetime(2012, 2, 1, 0, 0)]\n"
     ]
    }
   ],
   "source": [
    "import datetime\n",
    "dates =[datetime.datetime(year=int(row[1]),month=int(row[2]),day=1)for row in data]\n",
    "print(dates[0:5])"
   ]
  },
  {
   "cell_type": "markdown",
   "metadata": {},
   "source": [
    "## Continuation on Datetime \n",
    "Count up how many times each unique date occurs in dates. Assign the result to date_counts.\n",
    "This follows a similar procedure to what we did in the last screen with year_counts.\n",
    "Display date_counts."
   ]
  },
  {
   "cell_type": "code",
   "execution_count": 5,
   "metadata": {},
   "outputs": [
    {
     "name": "stdout",
     "output_type": "stream",
     "text": [
      "{2012: 12, 2013: 12, 2014: 10} 100798\n"
     ]
    }
   ],
   "source": [
    "date_counts = 0\n",
    "unique_dates = {}\n",
    "for date in dates:\n",
    "    if date not in unique_dates:\n",
    "        unique_dates[date.year] = date.month\n",
    "        date_counts += 1 \n",
    "print (unique_dates,date_counts)"
   ]
  },
  {
   "cell_type": "markdown",
   "metadata": {},
   "source": [
    "## F) Exploring Gun Deaths By Race And Sex\n",
    "\n",
    "The sex and race columns contain potentially interesting information on how gun deaths in the US vary by gender and race. \n",
    "Exploring both of these columns can be done with a similar dictionary counting technique to what we did earlier.\n",
    "\n",
    "+ Count up how many times each item in the sex column occurs.Assign the result to sex_counts.\n",
    "+ Count up how many times each item in the race column occurs.Assign the result to race_counts.\n",
    "+ Display race_counts and sex_counts to verify your work, and see if you can spot any patterns.\n",
    "\n"
   ]
  },
  {
   "cell_type": "code",
   "execution_count": 6,
   "metadata": {},
   "outputs": [
    {
     "name": "stdout",
     "output_type": "stream",
     "text": [
      "{'M': 86349, 'F': 14449}\n"
     ]
    }
   ],
   "source": [
    "sex_counts = {}\n",
    "for row in data:\n",
    "    if row[5] in sex_counts:\n",
    "        #print(True)\n",
    "        sex_counts[row[5]] += 1\n",
    "    else:\n",
    "        sex_counts[row[5]] = 1\n",
    "        \n",
    "print(sex_counts)    "
   ]
  },
  {
   "cell_type": "code",
   "execution_count": 7,
   "metadata": {},
   "outputs": [
    {
     "name": "stdout",
     "output_type": "stream",
     "text": [
      "{'Asian/Pacific Islander': 1326, 'White': 66237, 'Native American/Native Alaskan': 917, 'Black': 23296, 'Hispanic': 9022}\n"
     ]
    }
   ],
   "source": [
    "race_counts = {}\n",
    "for row in data:\n",
    "    if row[7] in race_counts:\n",
    "        #print(True)\n",
    "        race_counts[row[7]] += 1\n",
    "    else:\n",
    "        race_counts[row[7]] = 1\n",
    "        \n",
    "print(race_counts)    "
   ]
  },
  {
   "cell_type": "markdown",
   "metadata": {},
   "source": [
    "## G) Reading In A Second Dataset\n",
    "\n",
    "We explored gun deaths by race in the past screen. However, our analysis only gives us the total number of gun deaths by race in the US. Unless we know the proportion of each race in the US, we won't be able to meaningfully compare those numbers.  \n",
    "\n",
    "What we really want to get is a rate of gun deaths per 100000 people of each race.  In order to do this, we'll need to read \n",
    "in data about what percentage of the US population falls into each racial category.  Luckily, we can import some census\n",
    "data to help us out.  \n",
    "\n",
    "The data contains information on the total population of the US, as well as the total population of each racial group in\n",
    "the US. The data is stored in the census.csv file, and only consists of two rows:\n",
    "\n",
    "As you can see, the first row is a header row,  \n",
    "and the second row consists of population counts.  \n",
    "\n",
    "We'll need to read this file in using the csv.reader() function."
   ]
  },
  {
   "cell_type": "code",
   "execution_count": 8,
   "metadata": {},
   "outputs": [
    {
     "data": {
      "text/html": [
       "<div>\n",
       "<style scoped>\n",
       "    .dataframe tbody tr th:only-of-type {\n",
       "        vertical-align: middle;\n",
       "    }\n",
       "\n",
       "    .dataframe tbody tr th {\n",
       "        vertical-align: top;\n",
       "    }\n",
       "\n",
       "    .dataframe thead th {\n",
       "        text-align: right;\n",
       "    }\n",
       "</style>\n",
       "<table border=\"1\" class=\"dataframe\">\n",
       "  <thead>\n",
       "    <tr style=\"text-align: right;\">\n",
       "      <th></th>\n",
       "      <th>Id</th>\n",
       "      <th>Year</th>\n",
       "      <th>Id.1</th>\n",
       "      <th>Sex</th>\n",
       "      <th>Id.2</th>\n",
       "      <th>Hispanic Origin</th>\n",
       "      <th>Id.3</th>\n",
       "      <th>Id2</th>\n",
       "      <th>Geography</th>\n",
       "      <th>Total</th>\n",
       "      <th>Race Alone - White</th>\n",
       "      <th>Race Alone - Hispanic</th>\n",
       "      <th>Race Alone - Black or African American</th>\n",
       "      <th>Race Alone - American Indian and Alaska Native</th>\n",
       "      <th>Race Alone - Asian</th>\n",
       "      <th>Race Alone - Native Hawaiian and Other Pacific Islander</th>\n",
       "      <th>Two or More Races</th>\n",
       "    </tr>\n",
       "  </thead>\n",
       "  <tbody>\n",
       "    <tr>\n",
       "      <th>0</th>\n",
       "      <td>cen42010</td>\n",
       "      <td>April 1, 2010 Census</td>\n",
       "      <td>totsex</td>\n",
       "      <td>Both Sexes</td>\n",
       "      <td>tothisp</td>\n",
       "      <td>Total</td>\n",
       "      <td>0100000US</td>\n",
       "      <td>NaN</td>\n",
       "      <td>United States</td>\n",
       "      <td>308745538</td>\n",
       "      <td>197318956</td>\n",
       "      <td>44618105</td>\n",
       "      <td>40250635</td>\n",
       "      <td>3739506</td>\n",
       "      <td>15159516</td>\n",
       "      <td>674625</td>\n",
       "      <td>6984195</td>\n",
       "    </tr>\n",
       "  </tbody>\n",
       "</table>\n",
       "</div>"
      ],
      "text/plain": [
       "         Id                  Year    Id.1         Sex     Id.2  \\\n",
       "0  cen42010  April 1, 2010 Census  totsex  Both Sexes  tothisp   \n",
       "\n",
       "  Hispanic Origin       Id.3  Id2      Geography      Total  \\\n",
       "0           Total  0100000US  NaN  United States  308745538   \n",
       "\n",
       "   Race Alone - White  Race Alone - Hispanic  \\\n",
       "0           197318956               44618105   \n",
       "\n",
       "   Race Alone - Black or African American  \\\n",
       "0                                40250635   \n",
       "\n",
       "   Race Alone - American Indian and Alaska Native  Race Alone - Asian  \\\n",
       "0                                         3739506            15159516   \n",
       "\n",
       "   Race Alone - Native Hawaiian and Other Pacific Islander  Two or More Races  \n",
       "0                                             674625                  6984195  "
      ]
     },
     "execution_count": 8,
     "metadata": {},
     "output_type": "execute_result"
    }
   ],
   "source": [
    "import pandas as pd\n",
    "\n",
    "f2 = open('census.csv',\"r\")\n",
    "csv_reader = csv.reader(f2)\n",
    "census = list(csv_reader)\n",
    "\n",
    "df = pd.read_csv('census.csv')\n",
    "df"
   ]
  },
  {
   "cell_type": "code",
   "execution_count": 9,
   "metadata": {},
   "outputs": [
    {
     "name": "stdout",
     "output_type": "stream",
     "text": [
      "{'Asian/Pacific Islander': '151595163739506', 'Black': '40250635', 'Hispanic': '44618105', 'Native American/Native Alaskan': '3739506', 'White': '197318956'}\n"
     ]
    }
   ],
   "source": [
    "#Map race-name and number of suicides \n",
    "mapping  = {}\n",
    "census= census[1:]\n",
    "\n",
    "for i in census:\n",
    "    mapping['Asian/Pacific Islander'] = i[14]+i[13]\n",
    "    mapping['Black']= i[12]\n",
    "    mapping['Hispanic']= i[11]\n",
    "    mapping['Native American/Native Alaskan'] = i[13]\n",
    "    mapping['White'] = i[10]    \n",
    "print(mapping)\n",
    "    \n",
    "\n"
   ]
  },
  {
   "cell_type": "markdown",
   "metadata": {},
   "source": [
    "## H) Computing Rates Of Gun Deaths Per Race\n",
    "\n",
    "In order to get from the raw counts of gun deaths by race to a rate of gun deaths per 100000 people in each race,  \n",
    "we'll need to divide the total number of gun deaths by the population of each race.  \n",
    "From the census dataset, we know that the number of people in the White racial category is 197318956.  \n",
    "We'd divide 66237 by 197318956:\n",
    "\n",
    "This gives us the percentage chance that a given person in the White census race category would have been killed by a gun in the US from 2012 to 2014. If you do this computation, you'll see that the rate is a very small number, 0.0003356849303419181.  \n",
    "It's for this reason that it's typical to express crime statistics as the \"rate per 100000\".  \n",
    "This tells you the number of people in a given group out of every 100000 that were killed by guns in the US.  \n",
    "To get this, we just multiply by 100000:\n",
    "  \n",
    "This gives us 33.56, which we can interpret as \"33.56 out of every 100000 people in the White census race category in the US  were killed by guns between 2012 and 2014\".\n",
    "\n",
    "We'll need to calculate these same rates for each racial category. The only stumbling block is that the racial categories are named slightly differently in census and in data.  \n",
    "We'll need to manually construct a dictionary that allows us to map between them, and perform the division.\n",
    "\n",
    "Here's a list of the race name in data, and the corresponding race name in census:\n",
    "\n",
    "+ Asian/Pacific Islander -- Race Alone - Asian plus Race Alone - Native Hawaiian and Other Pacific Islander.\n",
    "+ Black -- Race Alone - Black or African American.\n",
    "+ Hispanic -- Race Alone - Hispanic\n",
    "+ Native American/Native Alaskan -- Race Alone - American Indian and Alaska Native\n",
    "+ White -- Race Alone - White  \n",
    "\n",
    "We'll need to create a dictionary that has each race name from data as a key, and has the population count  \n",
    "for the races from census as the values.\n",
    "\n",
    "Instructions\n",
    "\n",
    "+ Manually create a dictionary, mapping that maps each key from race_counts to the population count of the race from census.\n",
    "  The keys in the dictionary should be Asian/Pacific Islander, Black, Native American/Native Alaskan, Hispanic, and White.\n",
    "  In the case of Asian/Pacific Islander, you'll need to add the counts from census for Race Alone - Asian, and Race Alone -       Native Hawaiian and Other Pacific Islander.\n",
    "  \n",
    "+ Create an empty dictionary, race_per_hundredk.\n",
    "  Loop through each key in race_counts.\n",
    "  Divide the value associated with the key in race_counts by the value associated with the key in mapping.\n",
    "  Multiply by 100000.  \n",
    "  Assign the result to the same key in race_per_hundredk.\n",
    "  \n",
    "When you're done, race_per_hundredk should contain the rate of gun deaths per 100000 people for each racial category.\n",
    "Print race_per_hundredk to verify your work."
   ]
  },
  {
   "cell_type": "code",
   "execution_count": 10,
   "metadata": {},
   "outputs": [
    {
     "name": "stdout",
     "output_type": "stream",
     "text": [
      "{'Asian/Pacific Islander': 8.746980888378049e-07, 'White': 33.56849303419181, 'Native American/Native Alaskan': 24.521955573811088, 'Black': 57.8773477735196, 'Hispanic': 20.220491210910907}\n"
     ]
    }
   ],
   "source": [
    "race_per_hundredk = {}\n",
    "\n",
    "for key in race_counts:\n",
    "    death_by_race = race_counts[key]\n",
    "    \n",
    "    for key2 in mapping:\n",
    "        total_race = int(mapping[key2])\n",
    "        \n",
    "        if key == key2:\n",
    "            race_per_hundredk[key] = (death_by_race/total_race)*100000\n",
    "\n",
    "                                                          \n",
    "print (race_per_hundredk)     \n",
    "    "
   ]
  },
  {
   "cell_type": "markdown",
   "metadata": {},
   "source": [
    " ## I) Filtering By Intent\n",
    " We can filter our results, and restrict them to the Homicide intent.  \n",
    " This will tell us what the gun-related murder rate per 100000 people in each racial category is.  \n",
    " In order to do this, we'll need to redo our work in generating race_counts,but only count rows where the intent was Homicide.\n",
    "\n",
    " We can do this by first extracting the intent column, then using the enumerate() function to loop through each index and value  in the race column. If the value in the same position in intents is Homicide, we'll count the value in the race column.\n",
    "\n",
    " Finally, we'll use the mapping dictionary to convert from raw counts to rates.\n",
    " \n",
    " + Extract the intent column using a list comprehension. The intent column is the fourth column in data.\n",
    "   Assign the result to intents.\n",
    " + Extract the race column using a list comprehension. The race column is the eighth column in data.\n",
    "   Assign the result to races.\n",
    " + Create an empty dictionary called homicide_race_counts.  \n",
    " + Use the enumerate() function to loop through each item in races.  \n",
    "   The position should be assigned to the loop variable i, and the value to the loop variable race.\n",
    " + Check the value at position i in intents.\n",
    "   If the value at position i in intents is Homicide:\n",
    "   If the key race doesn't exist in homicide_race_counts, create it.\n",
    "   Add 1 to the value associated with race in homicide_race_counts.\n",
    "   \n",
    "When you're done, homicide_race_counts should have one key for each of the racial categories in data.  \n",
    "The associated value should be the number of gun deaths by homicide for that race.\n",
    "\n"
   ]
  },
  {
   "cell_type": "code",
   "execution_count": 11,
   "metadata": {},
   "outputs": [
    {
     "name": "stdout",
     "output_type": "stream",
     "text": [
      "{'White': 9147, 'Asian/Pacific Islander': 559, 'Black': 19510, 'Native American/Native Alaskan': 326, 'Hispanic': 5634}\n"
     ]
    }
   ],
   "source": [
    "intents = [row[3] for row in data]\n",
    "#print(intents)\n",
    "\n",
    "races = [row[7] for row in data]\n",
    "#print(races)\n",
    "\n",
    "homicide_race_counts  = {}\n",
    "\n",
    "for i,race in enumerate(races):    \n",
    "        intent = intents[i]\n",
    "        if  intent == \"Homicide\" :\n",
    "            if race in homicide_race_counts:\n",
    "                homicide_race_counts[race] += 1 \n",
    "            else: \n",
    "                homicide_race_counts[race] = 1\n",
    "                \n",
    "print(homicide_race_counts)\n"
   ]
  },
  {
   "cell_type": "markdown",
   "metadata": {},
   "source": [
    "## Homicide per 10,000 in the race \n",
    "\n",
    "+ Perform the same procedure we did in the last screen using mapping on homicide_race_counts to get \n",
    "  from raw numbers to rates per 100000.\n",
    "+ Display homicide_race_counts to verify your work.\n",
    "+ Write up your findings in a markdown cell.\n",
    "+ Write up any next steps you want to pursue with the data in a markdown cell."
   ]
  },
  {
   "cell_type": "code",
   "execution_count": 12,
   "metadata": {},
   "outputs": [
    {
     "name": "stdout",
     "output_type": "stream",
     "text": [
      "{'White': 0.46356417981453335, 'Asian/Pacific Islander': 3.6874527274534915e-08, 'Black': 4.847128498718095, 'Native American/Native Alaskan': 0.8717729026240364, 'Hispanic': 1.2627161104219913}\n"
     ]
    }
   ],
   "source": [
    "homicide_per_race_10000 = {}\n",
    "\n",
    "for i in homicide_race_counts:\n",
    "    for j in mapping: \n",
    "        if i == j :\n",
    "            homicide_per_race = homicide_race_counts[i]\n",
    "            total_Race_Census = int(mapping[j])            \n",
    "            homicide_per_race_10000[i] = (homicide_per_race/total_Race_Census) * 10000\n",
    "            \n",
    "print(homicide_per_race_10000)\n",
    "            "
   ]
  },
  {
   "cell_type": "markdown",
   "metadata": {},
   "source": [
    "## NOTES: You can do the same for other intents "
   ]
  },
  {
   "cell_type": "code",
   "execution_count": null,
   "metadata": {},
   "outputs": [],
   "source": []
  }
 ],
 "metadata": {
  "kernelspec": {
   "display_name": "Python 3",
   "language": "python",
   "name": "python3"
  },
  "language_info": {
   "codemirror_mode": {
    "name": "ipython",
    "version": 3
   },
   "file_extension": ".py",
   "mimetype": "text/x-python",
   "name": "python",
   "nbconvert_exporter": "python",
   "pygments_lexer": "ipython3",
   "version": "3.6.5"
  }
 },
 "nbformat": 4,
 "nbformat_minor": 1
}
